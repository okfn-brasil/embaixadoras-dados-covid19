{
  "nbformat": 4,
  "nbformat_minor": 0,
  "metadata": {
    "colab": {
      "name": "Covid19_Viz.ipynb",
      "provenance": [],
      "collapsed_sections": [],
      "mount_file_id": "1eLQl9--BOTOuEkKhdjr517EQ1-4zeY_O",
      "authorship_tag": "ABX9TyMd9X6qwmgZSUG7c3WyixOv",
      "include_colab_link": true
    },
    "kernelspec": {
      "name": "python3",
      "display_name": "Python 3"
    }
  },
  "cells": [
    {
      "cell_type": "markdown",
      "metadata": {
        "id": "view-in-github",
        "colab_type": "text"
      },
      "source": [
        "<a href=\"https://colab.research.google.com/github/Rosangelafl/embaixadoras-dados-covid19/blob/master/Covid19_Viz.ipynb\" target=\"_parent\"><img src=\"https://colab.research.google.com/assets/colab-badge.svg\" alt=\"Open In Colab\"/></a>"
      ]
    },
    {
      "cell_type": "markdown",
      "metadata": {
        "id": "BXB9-wrEz6f7"
      },
      "source": [
        "\n",
        "Fonte dos dados.: https://github.com/datasets/covid-19"
      ]
    },
    {
      "cell_type": "code",
      "metadata": {
        "id": "3SuPezdAt8I2"
      },
      "source": [
        "import pandas as pd\n",
        "import matplotlib.pyplot as plt\n",
        "import matplotlib.dates as mdates\n",
        "%matplotlib inline\n",
        "\n",
        "plt.style.use('fivethirtyeight') \n"
      ],
      "execution_count": null,
      "outputs": []
    },
    {
      "cell_type": "code",
      "metadata": {
        "id": "ndlS9b_7YKH2"
      },
      "source": [
        "import warnings\n",
        "warnings.filterwarnings('ignore')"
      ],
      "execution_count": null,
      "outputs": []
    },
    {
      "cell_type": "code",
      "metadata": {
        "id": "ZKtf3zR0wfpq",
        "outputId": "3f084526-1d59-48b2-e5e2-7c2fb803e67b",
        "colab": {
          "base_uri": "https://localhost:8080/",
          "height": 197
        }
      },
      "source": [
        "df= pd.read_csv('https://raw.githubusercontent.com/datasets/covid-19/master/data/countries-aggregated.csv', parse_dates=['Date'])\n",
        "df.head()"
      ],
      "execution_count": null,
      "outputs": [
        {
          "output_type": "execute_result",
          "data": {
            "text/html": [
              "<div>\n",
              "<style scoped>\n",
              "    .dataframe tbody tr th:only-of-type {\n",
              "        vertical-align: middle;\n",
              "    }\n",
              "\n",
              "    .dataframe tbody tr th {\n",
              "        vertical-align: top;\n",
              "    }\n",
              "\n",
              "    .dataframe thead th {\n",
              "        text-align: right;\n",
              "    }\n",
              "</style>\n",
              "<table border=\"1\" class=\"dataframe\">\n",
              "  <thead>\n",
              "    <tr style=\"text-align: right;\">\n",
              "      <th></th>\n",
              "      <th>Date</th>\n",
              "      <th>Country</th>\n",
              "      <th>Confirmed</th>\n",
              "      <th>Recovered</th>\n",
              "      <th>Deaths</th>\n",
              "    </tr>\n",
              "  </thead>\n",
              "  <tbody>\n",
              "    <tr>\n",
              "      <th>0</th>\n",
              "      <td>2020-01-22</td>\n",
              "      <td>Afghanistan</td>\n",
              "      <td>0</td>\n",
              "      <td>0</td>\n",
              "      <td>0</td>\n",
              "    </tr>\n",
              "    <tr>\n",
              "      <th>1</th>\n",
              "      <td>2020-01-22</td>\n",
              "      <td>Albania</td>\n",
              "      <td>0</td>\n",
              "      <td>0</td>\n",
              "      <td>0</td>\n",
              "    </tr>\n",
              "    <tr>\n",
              "      <th>2</th>\n",
              "      <td>2020-01-22</td>\n",
              "      <td>Algeria</td>\n",
              "      <td>0</td>\n",
              "      <td>0</td>\n",
              "      <td>0</td>\n",
              "    </tr>\n",
              "    <tr>\n",
              "      <th>3</th>\n",
              "      <td>2020-01-22</td>\n",
              "      <td>Andorra</td>\n",
              "      <td>0</td>\n",
              "      <td>0</td>\n",
              "      <td>0</td>\n",
              "    </tr>\n",
              "    <tr>\n",
              "      <th>4</th>\n",
              "      <td>2020-01-22</td>\n",
              "      <td>Angola</td>\n",
              "      <td>0</td>\n",
              "      <td>0</td>\n",
              "      <td>0</td>\n",
              "    </tr>\n",
              "  </tbody>\n",
              "</table>\n",
              "</div>"
            ],
            "text/plain": [
              "        Date      Country  Confirmed  Recovered  Deaths\n",
              "0 2020-01-22  Afghanistan          0          0       0\n",
              "1 2020-01-22      Albania          0          0       0\n",
              "2 2020-01-22      Algeria          0          0       0\n",
              "3 2020-01-22      Andorra          0          0       0\n",
              "4 2020-01-22       Angola          0          0       0"
            ]
          },
          "metadata": {
            "tags": []
          },
          "execution_count": 3
        }
      ]
    },
    {
      "cell_type": "code",
      "metadata": {
        "id": "a9J4YALQINIu",
        "outputId": "34f8b7b9-f243-4460-e63b-622bf10d37e4",
        "colab": {
          "base_uri": "https://localhost:8080/",
          "height": 141
        }
      },
      "source": [
        "df['Date'].describe()"
      ],
      "execution_count": null,
      "outputs": [
        {
          "output_type": "execute_result",
          "data": {
            "text/plain": [
              "count                   37600\n",
              "unique                    200\n",
              "top       2020-04-09 00:00:00\n",
              "freq                      188\n",
              "first     2020-01-22 00:00:00\n",
              "last      2020-08-08 00:00:00\n",
              "Name: Date, dtype: object"
            ]
          },
          "metadata": {
            "tags": []
          },
          "execution_count": 53
        }
      ]
    },
    {
      "cell_type": "code",
      "metadata": {
        "id": "EEiMrOrzybTC"
      },
      "source": [
        "df['Total Cases'] = df[['Confirmed', 'Recovered', 'Deaths']].sum(axis=1)"
      ],
      "execution_count": null,
      "outputs": []
    },
    {
      "cell_type": "code",
      "metadata": {
        "id": "gHr8cZPcy3Zt",
        "outputId": "324301c5-6d18-4d64-9c49-333967363c0a",
        "colab": {
          "base_uri": "https://localhost:8080/",
          "height": 197
        }
      },
      "source": [
        "df.head()"
      ],
      "execution_count": null,
      "outputs": [
        {
          "output_type": "execute_result",
          "data": {
            "text/html": [
              "<div>\n",
              "<style scoped>\n",
              "    .dataframe tbody tr th:only-of-type {\n",
              "        vertical-align: middle;\n",
              "    }\n",
              "\n",
              "    .dataframe tbody tr th {\n",
              "        vertical-align: top;\n",
              "    }\n",
              "\n",
              "    .dataframe thead th {\n",
              "        text-align: right;\n",
              "    }\n",
              "</style>\n",
              "<table border=\"1\" class=\"dataframe\">\n",
              "  <thead>\n",
              "    <tr style=\"text-align: right;\">\n",
              "      <th></th>\n",
              "      <th>Date</th>\n",
              "      <th>Country</th>\n",
              "      <th>Confirmed</th>\n",
              "      <th>Recovered</th>\n",
              "      <th>Deaths</th>\n",
              "      <th>Total Cases</th>\n",
              "    </tr>\n",
              "  </thead>\n",
              "  <tbody>\n",
              "    <tr>\n",
              "      <th>0</th>\n",
              "      <td>2020-01-22</td>\n",
              "      <td>Afghanistan</td>\n",
              "      <td>0</td>\n",
              "      <td>0</td>\n",
              "      <td>0</td>\n",
              "      <td>0</td>\n",
              "    </tr>\n",
              "    <tr>\n",
              "      <th>1</th>\n",
              "      <td>2020-01-22</td>\n",
              "      <td>Albania</td>\n",
              "      <td>0</td>\n",
              "      <td>0</td>\n",
              "      <td>0</td>\n",
              "      <td>0</td>\n",
              "    </tr>\n",
              "    <tr>\n",
              "      <th>2</th>\n",
              "      <td>2020-01-22</td>\n",
              "      <td>Algeria</td>\n",
              "      <td>0</td>\n",
              "      <td>0</td>\n",
              "      <td>0</td>\n",
              "      <td>0</td>\n",
              "    </tr>\n",
              "    <tr>\n",
              "      <th>3</th>\n",
              "      <td>2020-01-22</td>\n",
              "      <td>Andorra</td>\n",
              "      <td>0</td>\n",
              "      <td>0</td>\n",
              "      <td>0</td>\n",
              "      <td>0</td>\n",
              "    </tr>\n",
              "    <tr>\n",
              "      <th>4</th>\n",
              "      <td>2020-01-22</td>\n",
              "      <td>Angola</td>\n",
              "      <td>0</td>\n",
              "      <td>0</td>\n",
              "      <td>0</td>\n",
              "      <td>0</td>\n",
              "    </tr>\n",
              "  </tbody>\n",
              "</table>\n",
              "</div>"
            ],
            "text/plain": [
              "        Date      Country  Confirmed  Recovered  Deaths  Total Cases\n",
              "0 2020-01-22  Afghanistan          0          0       0            0\n",
              "1 2020-01-22      Albania          0          0       0            0\n",
              "2 2020-01-22      Algeria          0          0       0            0\n",
              "3 2020-01-22      Andorra          0          0       0            0\n",
              "4 2020-01-22       Angola          0          0       0            0"
            ]
          },
          "metadata": {
            "tags": []
          },
          "execution_count": 5
        }
      ]
    },
    {
      "cell_type": "code",
      "metadata": {
        "id": "mBGMGRD6y5Lu",
        "outputId": "30f24a64-0730-407b-e5e1-cf270e53b004",
        "colab": {
          "base_uri": "https://localhost:8080/",
          "height": 227
        }
      },
      "source": [
        "# qtd casos no mundo\n",
        "\n",
        "world_df = df.groupby(['Date']).sum()\n",
        "world_df.head()"
      ],
      "execution_count": null,
      "outputs": [
        {
          "output_type": "execute_result",
          "data": {
            "text/html": [
              "<div>\n",
              "<style scoped>\n",
              "    .dataframe tbody tr th:only-of-type {\n",
              "        vertical-align: middle;\n",
              "    }\n",
              "\n",
              "    .dataframe tbody tr th {\n",
              "        vertical-align: top;\n",
              "    }\n",
              "\n",
              "    .dataframe thead th {\n",
              "        text-align: right;\n",
              "    }\n",
              "</style>\n",
              "<table border=\"1\" class=\"dataframe\">\n",
              "  <thead>\n",
              "    <tr style=\"text-align: right;\">\n",
              "      <th></th>\n",
              "      <th>Confirmed</th>\n",
              "      <th>Recovered</th>\n",
              "      <th>Deaths</th>\n",
              "      <th>Total Cases</th>\n",
              "    </tr>\n",
              "    <tr>\n",
              "      <th>Date</th>\n",
              "      <th></th>\n",
              "      <th></th>\n",
              "      <th></th>\n",
              "      <th></th>\n",
              "    </tr>\n",
              "  </thead>\n",
              "  <tbody>\n",
              "    <tr>\n",
              "      <th>2020-01-22</th>\n",
              "      <td>555</td>\n",
              "      <td>28</td>\n",
              "      <td>17</td>\n",
              "      <td>600</td>\n",
              "    </tr>\n",
              "    <tr>\n",
              "      <th>2020-01-23</th>\n",
              "      <td>654</td>\n",
              "      <td>30</td>\n",
              "      <td>18</td>\n",
              "      <td>702</td>\n",
              "    </tr>\n",
              "    <tr>\n",
              "      <th>2020-01-24</th>\n",
              "      <td>941</td>\n",
              "      <td>36</td>\n",
              "      <td>26</td>\n",
              "      <td>1003</td>\n",
              "    </tr>\n",
              "    <tr>\n",
              "      <th>2020-01-25</th>\n",
              "      <td>1434</td>\n",
              "      <td>39</td>\n",
              "      <td>42</td>\n",
              "      <td>1515</td>\n",
              "    </tr>\n",
              "    <tr>\n",
              "      <th>2020-01-26</th>\n",
              "      <td>2118</td>\n",
              "      <td>52</td>\n",
              "      <td>56</td>\n",
              "      <td>2226</td>\n",
              "    </tr>\n",
              "  </tbody>\n",
              "</table>\n",
              "</div>"
            ],
            "text/plain": [
              "            Confirmed  Recovered  Deaths  Total Cases\n",
              "Date                                                 \n",
              "2020-01-22        555         28      17          600\n",
              "2020-01-23        654         30      18          702\n",
              "2020-01-24        941         36      26         1003\n",
              "2020-01-25       1434         39      42         1515\n",
              "2020-01-26       2118         52      56         2226"
            ]
          },
          "metadata": {
            "tags": []
          },
          "execution_count": 6
        }
      ]
    },
    {
      "cell_type": "code",
      "metadata": {
        "id": "xiJB9bkT18Zj",
        "outputId": "84a6c67d-eedd-428f-f6df-d7e6250bd769",
        "colab": {
          "base_uri": "https://localhost:8080/",
          "height": 742
        }
      },
      "source": [
        "w = world_df.plot(figsize=(10, 12))\n",
        "w.set_xlabel('Date')\n",
        "w.set_ylabel('Cases Worldwide')\n",
        "w.title.set_text('Worldwide Covid Insights')\n",
        "plt.show()"
      ],
      "execution_count": null,
      "outputs": [
        {
          "output_type": "display_data",
          "data": {
            "image/png": "[encoded data removed]",
            "text/plain": [
              "<Figure size 720x864 with 1 Axes>"
            ]
          },
          "metadata": {
            "tags": [],
            "needs_background": "light"
          }
        }
      ]
    },
    {
      "cell_type": "code",
      "metadata": {
        "id": "n8CBr9mEAfnE",
        "outputId": "e5a61258-1dfe-42d9-8580-7215fe1d88c6",
        "colab": {
          "base_uri": "https://localhost:8080/",
          "height": 406
        }
      },
      "source": [
        "brasil_df = df[df['Country'] == 'Brazil']\n",
        "brasil_df"
      ],
      "execution_count": null,
      "outputs": [
        {
          "output_type": "execute_result",
          "data": {
            "text/html": [
              "<div>\n",
              "<style scoped>\n",
              "    .dataframe tbody tr th:only-of-type {\n",
              "        vertical-align: middle;\n",
              "    }\n",
              "\n",
              "    .dataframe tbody tr th {\n",
              "        vertical-align: top;\n",
              "    }\n",
              "\n",
              "    .dataframe thead th {\n",
              "        text-align: right;\n",
              "    }\n",
              "</style>\n",
              "<table border=\"1\" class=\"dataframe\">\n",
              "  <thead>\n",
              "    <tr style=\"text-align: right;\">\n",
              "      <th></th>\n",
              "      <th>Date</th>\n",
              "      <th>Country</th>\n",
              "      <th>Confirmed</th>\n",
              "      <th>Recovered</th>\n",
              "      <th>Deaths</th>\n",
              "      <th>Total Cases</th>\n",
              "    </tr>\n",
              "  </thead>\n",
              "  <tbody>\n",
              "    <tr>\n",
              "      <th>23</th>\n",
              "      <td>2020-01-22</td>\n",
              "      <td>Brazil</td>\n",
              "      <td>0</td>\n",
              "      <td>0</td>\n",
              "      <td>0</td>\n",
              "      <td>0</td>\n",
              "    </tr>\n",
              "    <tr>\n",
              "      <th>211</th>\n",
              "      <td>2020-01-23</td>\n",
              "      <td>Brazil</td>\n",
              "      <td>0</td>\n",
              "      <td>0</td>\n",
              "      <td>0</td>\n",
              "      <td>0</td>\n",
              "    </tr>\n",
              "    <tr>\n",
              "      <th>399</th>\n",
              "      <td>2020-01-24</td>\n",
              "      <td>Brazil</td>\n",
              "      <td>0</td>\n",
              "      <td>0</td>\n",
              "      <td>0</td>\n",
              "      <td>0</td>\n",
              "    </tr>\n",
              "    <tr>\n",
              "      <th>587</th>\n",
              "      <td>2020-01-25</td>\n",
              "      <td>Brazil</td>\n",
              "      <td>0</td>\n",
              "      <td>0</td>\n",
              "      <td>0</td>\n",
              "      <td>0</td>\n",
              "    </tr>\n",
              "    <tr>\n",
              "      <th>775</th>\n",
              "      <td>2020-01-26</td>\n",
              "      <td>Brazil</td>\n",
              "      <td>0</td>\n",
              "      <td>0</td>\n",
              "      <td>0</td>\n",
              "      <td>0</td>\n",
              "    </tr>\n",
              "    <tr>\n",
              "      <th>...</th>\n",
              "      <td>...</td>\n",
              "      <td>...</td>\n",
              "      <td>...</td>\n",
              "      <td>...</td>\n",
              "      <td>...</td>\n",
              "      <td>...</td>\n",
              "    </tr>\n",
              "    <tr>\n",
              "      <th>36683</th>\n",
              "      <td>2020-08-04</td>\n",
              "      <td>Brazil</td>\n",
              "      <td>2801921</td>\n",
              "      <td>2157484</td>\n",
              "      <td>95819</td>\n",
              "      <td>5055224</td>\n",
              "    </tr>\n",
              "    <tr>\n",
              "      <th>36871</th>\n",
              "      <td>2020-08-05</td>\n",
              "      <td>Brazil</td>\n",
              "      <td>2859073</td>\n",
              "      <td>2190361</td>\n",
              "      <td>97256</td>\n",
              "      <td>5146690</td>\n",
              "    </tr>\n",
              "    <tr>\n",
              "      <th>37059</th>\n",
              "      <td>2020-08-06</td>\n",
              "      <td>Brazil</td>\n",
              "      <td>2912212</td>\n",
              "      <td>2230542</td>\n",
              "      <td>98493</td>\n",
              "      <td>5241247</td>\n",
              "    </tr>\n",
              "    <tr>\n",
              "      <th>37247</th>\n",
              "      <td>2020-08-07</td>\n",
              "      <td>Brazil</td>\n",
              "      <td>2962442</td>\n",
              "      <td>2272299</td>\n",
              "      <td>99572</td>\n",
              "      <td>5334313</td>\n",
              "    </tr>\n",
              "    <tr>\n",
              "      <th>37435</th>\n",
              "      <td>2020-08-08</td>\n",
              "      <td>Brazil</td>\n",
              "      <td>3012412</td>\n",
              "      <td>2321537</td>\n",
              "      <td>100477</td>\n",
              "      <td>5434426</td>\n",
              "    </tr>\n",
              "  </tbody>\n",
              "</table>\n",
              "<p>200 rows × 6 columns</p>\n",
              "</div>"
            ],
            "text/plain": [
              "            Date Country  Confirmed  Recovered  Deaths  Total Cases\n",
              "23    2020-01-22  Brazil          0          0       0            0\n",
              "211   2020-01-23  Brazil          0          0       0            0\n",
              "399   2020-01-24  Brazil          0          0       0            0\n",
              "587   2020-01-25  Brazil          0          0       0            0\n",
              "775   2020-01-26  Brazil          0          0       0            0\n",
              "...          ...     ...        ...        ...     ...          ...\n",
              "36683 2020-08-04  Brazil    2801921    2157484   95819      5055224\n",
              "36871 2020-08-05  Brazil    2859073    2190361   97256      5146690\n",
              "37059 2020-08-06  Brazil    2912212    2230542   98493      5241247\n",
              "37247 2020-08-07  Brazil    2962442    2272299   99572      5334313\n",
              "37435 2020-08-08  Brazil    3012412    2321537  100477      5434426\n",
              "\n",
              "[200 rows x 6 columns]"
            ]
          },
          "metadata": {
            "tags": []
          },
          "execution_count": 18
        }
      ]
    },
    {
      "cell_type": "code",
      "metadata": {
        "id": "8tvobAH8BUj6",
        "outputId": "80ece66e-eb12-4cd2-f12a-0cdc903d80ab",
        "colab": {
          "base_uri": "https://localhost:8080/",
          "height": 141
        }
      },
      "source": [
        "brasil_df['Date'].describe()"
      ],
      "execution_count": null,
      "outputs": [
        {
          "output_type": "execute_result",
          "data": {
            "text/plain": [
              "count                     200\n",
              "unique                    200\n",
              "top       2020-03-13 00:00:00\n",
              "freq                        1\n",
              "first     2020-01-22 00:00:00\n",
              "last      2020-08-08 00:00:00\n",
              "Name: Date, dtype: object"
            ]
          },
          "metadata": {
            "tags": []
          },
          "execution_count": 19
        }
      ]
    },
    {
      "cell_type": "code",
      "metadata": {
        "id": "2udz7CNuQEkZ",
        "outputId": "d93527f5-8760-4190-ab00-13bbadf1a704",
        "colab": {
          "base_uri": "https://localhost:8080/",
          "height": 247
        }
      },
      "source": [
        "brasil_df.info()"
      ],
      "execution_count": null,
      "outputs": [
        {
          "output_type": "stream",
          "text": [
            "<class 'pandas.core.frame.DataFrame'>\n",
            "Int64Index: 200 entries, 23 to 37435\n",
            "Data columns (total 6 columns):\n",
            " #   Column       Non-Null Count  Dtype         \n",
            "---  ------       --------------  -----         \n",
            " 0   Date         200 non-null    datetime64[ns]\n",
            " 1   Country      200 non-null    object        \n",
            " 2   Confirmed    200 non-null    int64         \n",
            " 3   Recovered    200 non-null    int64         \n",
            " 4   Deaths       200 non-null    int64         \n",
            " 5   Total Cases  200 non-null    int64         \n",
            "dtypes: datetime64[ns](1), int64(4), object(1)\n",
            "memory usage: 10.9+ KB\n"
          ],
          "name": "stdout"
        }
      ]
    },
    {
      "cell_type": "code",
      "metadata": {
        "id": "zuc4lZgC3IZg"
      },
      "source": [
        "brasil_df.set_index('Date', inplace=True)"
      ],
      "execution_count": null,
      "outputs": []
    },
    {
      "cell_type": "code",
      "metadata": {
        "id": "BY8BSzKfDcLC",
        "outputId": "c7f69876-cd14-487f-d7bb-2ff4a42684d0",
        "colab": {
          "base_uri": "https://localhost:8080/",
          "height": 350
        }
      },
      "source": [
        "fig = plt.figure(figsize=(12,5))\n",
        "ax = fig.add_subplot(111)\n",
        "\n",
        "ax.plot(world_df[['Total Cases']],label='Worldwide')\n",
        "ax.plot(brasil_df[['Total Cases']], label= 'Brazil')\n",
        "ax.set_xlabel('Date')\n",
        "ax.set_xlabel('Total Cases')\n",
        "ax.title.set_text('Worldwide vs. Brazil Total Cases')\n",
        "\n",
        "plt.legend(loc='upper left')\n",
        "\n",
        "plt.show()\n",
        "\n"
      ],
      "execution_count": null,
      "outputs": [
        {
          "output_type": "display_data",
          "data": {
            "image/png": "[encoded data removed]",
            "text/plain": [
              "<Figure size 864x360 with 1 Axes>"
            ]
          },
          "metadata": {
            "tags": [],
            "needs_background": "light"
          }
        }
      ]
    },
    {
      "cell_type": "code",
      "metadata": {
        "id": "LcnXCpaYH7-9"
      },
      "source": [
        "brasil_df['Daily Confirmed'] = brasil_df['Confirmed'].sub(brasil_df['Confirmed'].shift())\n"
      ],
      "execution_count": null,
      "outputs": []
    },
    {
      "cell_type": "code",
      "metadata": {
        "id": "7EmkiMhvQl2U"
      },
      "source": [
        "brasil_df['Daily Deaths'] = brasil_df['Deaths'].sub(brasil_df['Deaths'].shift())\n"
      ],
      "execution_count": null,
      "outputs": []
    },
    {
      "cell_type": "code",
      "metadata": {
        "id": "laADEkO6QtT2"
      },
      "source": [
        "brasil_df.reset_index('Date', inplace=True)"
      ],
      "execution_count": null,
      "outputs": []
    },
    {
      "cell_type": "code",
      "metadata": {
        "id": "QGb4RPbTZp6C",
        "outputId": "fe8868bf-37f2-46d0-e32b-04d84a016aee",
        "colab": {
          "base_uri": "https://localhost:8080/",
          "height": 283
        }
      },
      "source": [
        "brasil_df.info()"
      ],
      "execution_count": null,
      "outputs": [
        {
          "output_type": "stream",
          "text": [
            "<class 'pandas.core.frame.DataFrame'>\n",
            "RangeIndex: 200 entries, 0 to 199\n",
            "Data columns (total 8 columns):\n",
            " #   Column           Non-Null Count  Dtype         \n",
            "---  ------           --------------  -----         \n",
            " 0   Date             200 non-null    datetime64[ns]\n",
            " 1   Country          200 non-null    object        \n",
            " 2   Confirmed        200 non-null    int64         \n",
            " 3   Recovered        200 non-null    int64         \n",
            " 4   Deaths           200 non-null    int64         \n",
            " 5   Total Cases      200 non-null    int64         \n",
            " 6   Daily Confirmed  199 non-null    float64       \n",
            " 7   Daily Deaths     199 non-null    float64       \n",
            "dtypes: datetime64[ns](1), float64(2), int64(4), object(1)\n",
            "memory usage: 12.6+ KB\n"
          ],
          "name": "stdout"
        }
      ]
    },
    {
      "cell_type": "code",
      "metadata": {
        "id": "ecbMAAV7Qx_u",
        "outputId": "258aa73b-f855-4dc9-f657-b0918f063b59",
        "colab": {
          "base_uri": "https://localhost:8080/",
          "height": 428
        }
      },
      "source": [
        "\n",
        "\n",
        "\n",
        "fig = plt.figure(figsize=(20, 8))\n",
        "ax = fig.add_subplot(111)\n",
        "\n",
        "ax.bar(brasil_df['Date'], brasil_df['Daily Confirmed'], color='blue', label='Brazil Daily Confirmed Cases')\n",
        "ax.bar(brasil_df['Date'], brasil_df['Daily Deaths'], color='red', label='Brazil Daily Deaths')\n",
        "ax.set_xlabel('Date')\n",
        "ax.set_ylabel('People Affected')\n",
        "ax.title.set_text('Brazil Daily Cases and Deaths')\n",
        "\n",
        "plt.legend(loc='upper left')\n",
        "plt.show()"
      ],
      "execution_count": null,
      "outputs": [
        {
          "output_type": "display_data",
          "data": {
            "image/png": "[encoded data removed]",
            "text/plain": [
              "<Figure size 1440x576 with 1 Axes>"
            ]
          },
          "metadata": {
            "tags": [],
            "needs_background": "light"
          }
        }
      ]
    },
    {
      "cell_type": "code",
      "metadata": {
        "id": "GIDJa3ls5HOU",
        "outputId": "5c0b8bbf-cd48-4fb1-9f2f-538bd80bbe2d",
        "colab": {
          "base_uri": "https://localhost:8080/",
          "height": 35
        }
      },
      "source": [
        "# Worst Countries from last day\n",
        "\n",
        "from datetime import date, timedelta\n",
        "yesterday = date.today() - timedelta(days=1)\n",
        "yesterday.strftime('%Y-%m-%d')\n",
        "\n"
      ],
      "execution_count": null,
      "outputs": [
        {
          "output_type": "execute_result",
          "data": {
            "application/vnd.google.colaboratory.intrinsic+json": {
              "type": "string"
            },
            "text/plain": [
              "'2020-08-08'"
            ]
          },
          "metadata": {
            "tags": []
          },
          "execution_count": 32
        }
      ]
    },
    {
      "cell_type": "code",
      "metadata": {
        "id": "UFGEPz3a5Hh7",
        "outputId": "e8f5cbd7-276b-4c05-c2f2-c3883c40dd5b",
        "colab": {
          "base_uri": "https://localhost:8080/",
          "height": 107
        }
      },
      "source": [
        "total_df = df[df['Date']== '2020-08-08']  #fornece a data mais recente\n",
        "total_df.head(2)\n"
      ],
      "execution_count": null,
      "outputs": [
        {
          "output_type": "execute_result",
          "data": {
            "text/html": [
              "<div>\n",
              "<style scoped>\n",
              "    .dataframe tbody tr th:only-of-type {\n",
              "        vertical-align: middle;\n",
              "    }\n",
              "\n",
              "    .dataframe tbody tr th {\n",
              "        vertical-align: top;\n",
              "    }\n",
              "\n",
              "    .dataframe thead th {\n",
              "        text-align: right;\n",
              "    }\n",
              "</style>\n",
              "<table border=\"1\" class=\"dataframe\">\n",
              "  <thead>\n",
              "    <tr style=\"text-align: right;\">\n",
              "      <th></th>\n",
              "      <th>Date</th>\n",
              "      <th>Country</th>\n",
              "      <th>Confirmed</th>\n",
              "      <th>Recovered</th>\n",
              "      <th>Deaths</th>\n",
              "      <th>Total Cases</th>\n",
              "    </tr>\n",
              "  </thead>\n",
              "  <tbody>\n",
              "    <tr>\n",
              "      <th>37412</th>\n",
              "      <td>2020-08-08</td>\n",
              "      <td>Afghanistan</td>\n",
              "      <td>37054</td>\n",
              "      <td>25960</td>\n",
              "      <td>1312</td>\n",
              "      <td>64326</td>\n",
              "    </tr>\n",
              "    <tr>\n",
              "      <th>37413</th>\n",
              "      <td>2020-08-08</td>\n",
              "      <td>Albania</td>\n",
              "      <td>6275</td>\n",
              "      <td>3268</td>\n",
              "      <td>193</td>\n",
              "      <td>9736</td>\n",
              "    </tr>\n",
              "  </tbody>\n",
              "</table>\n",
              "</div>"
            ],
            "text/plain": [
              "            Date      Country  Confirmed  Recovered  Deaths  Total Cases\n",
              "37412 2020-08-08  Afghanistan      37054      25960    1312        64326\n",
              "37413 2020-08-08      Albania       6275       3268     193         9736"
            ]
          },
          "metadata": {
            "tags": []
          },
          "execution_count": 38
        }
      ]
    },
    {
      "cell_type": "code",
      "metadata": {
        "id": "GsHs0vpY5H4p",
        "outputId": "17af1779-5de3-41c0-f5cf-0827f8bf39de",
        "colab": {
          "base_uri": "https://localhost:8080/",
          "height": 347
        }
      },
      "source": [
        "top_10 = total_df.sort_values(['Confirmed'], ascending=False)[:10]\n",
        "top_10"
      ],
      "execution_count": null,
      "outputs": [
        {
          "output_type": "execute_result",
          "data": {
            "text/html": [
              "<div>\n",
              "<style scoped>\n",
              "    .dataframe tbody tr th:only-of-type {\n",
              "        vertical-align: middle;\n",
              "    }\n",
              "\n",
              "    .dataframe tbody tr th {\n",
              "        vertical-align: top;\n",
              "    }\n",
              "\n",
              "    .dataframe thead th {\n",
              "        text-align: right;\n",
              "    }\n",
              "</style>\n",
              "<table border=\"1\" class=\"dataframe\">\n",
              "  <thead>\n",
              "    <tr style=\"text-align: right;\">\n",
              "      <th></th>\n",
              "      <th>Date</th>\n",
              "      <th>Country</th>\n",
              "      <th>Confirmed</th>\n",
              "      <th>Recovered</th>\n",
              "      <th>Deaths</th>\n",
              "      <th>Total Cases</th>\n",
              "    </tr>\n",
              "  </thead>\n",
              "  <tbody>\n",
              "    <tr>\n",
              "      <th>37586</th>\n",
              "      <td>2020-08-08</td>\n",
              "      <td>US</td>\n",
              "      <td>4997929</td>\n",
              "      <td>1643118</td>\n",
              "      <td>162423</td>\n",
              "      <td>6803470</td>\n",
              "    </tr>\n",
              "    <tr>\n",
              "      <th>37435</th>\n",
              "      <td>2020-08-08</td>\n",
              "      <td>Brazil</td>\n",
              "      <td>3012412</td>\n",
              "      <td>2321537</td>\n",
              "      <td>100477</td>\n",
              "      <td>5434426</td>\n",
              "    </tr>\n",
              "    <tr>\n",
              "      <th>37491</th>\n",
              "      <td>2020-08-08</td>\n",
              "      <td>India</td>\n",
              "      <td>2153010</td>\n",
              "      <td>1480884</td>\n",
              "      <td>43379</td>\n",
              "      <td>3677273</td>\n",
              "    </tr>\n",
              "    <tr>\n",
              "      <th>37552</th>\n",
              "      <td>2020-08-08</td>\n",
              "      <td>Russia</td>\n",
              "      <td>880563</td>\n",
              "      <td>688856</td>\n",
              "      <td>14827</td>\n",
              "      <td>1584246</td>\n",
              "    </tr>\n",
              "    <tr>\n",
              "      <th>37568</th>\n",
              "      <td>2020-08-08</td>\n",
              "      <td>South Africa</td>\n",
              "      <td>553188</td>\n",
              "      <td>404568</td>\n",
              "      <td>10210</td>\n",
              "      <td>967966</td>\n",
              "    </tr>\n",
              "    <tr>\n",
              "      <th>37525</th>\n",
              "      <td>2020-08-08</td>\n",
              "      <td>Mexico</td>\n",
              "      <td>475902</td>\n",
              "      <td>377125</td>\n",
              "      <td>52006</td>\n",
              "      <td>905033</td>\n",
              "    </tr>\n",
              "    <tr>\n",
              "      <th>37546</th>\n",
              "      <td>2020-08-08</td>\n",
              "      <td>Peru</td>\n",
              "      <td>463875</td>\n",
              "      <td>319171</td>\n",
              "      <td>20649</td>\n",
              "      <td>803695</td>\n",
              "    </tr>\n",
              "    <tr>\n",
              "      <th>37449</th>\n",
              "      <td>2020-08-08</td>\n",
              "      <td>Colombia</td>\n",
              "      <td>376870</td>\n",
              "      <td>204591</td>\n",
              "      <td>12540</td>\n",
              "      <td>594001</td>\n",
              "    </tr>\n",
              "    <tr>\n",
              "      <th>37447</th>\n",
              "      <td>2020-08-08</td>\n",
              "      <td>Chile</td>\n",
              "      <td>371023</td>\n",
              "      <td>344133</td>\n",
              "      <td>10011</td>\n",
              "      <td>725167</td>\n",
              "    </tr>\n",
              "    <tr>\n",
              "      <th>37493</th>\n",
              "      <td>2020-08-08</td>\n",
              "      <td>Iran</td>\n",
              "      <td>324692</td>\n",
              "      <td>282122</td>\n",
              "      <td>18264</td>\n",
              "      <td>625078</td>\n",
              "    </tr>\n",
              "  </tbody>\n",
              "</table>\n",
              "</div>"
            ],
            "text/plain": [
              "            Date       Country  Confirmed  Recovered  Deaths  Total Cases\n",
              "37586 2020-08-08            US    4997929    1643118  162423      6803470\n",
              "37435 2020-08-08        Brazil    3012412    2321537  100477      5434426\n",
              "37491 2020-08-08         India    2153010    1480884   43379      3677273\n",
              "37552 2020-08-08        Russia     880563     688856   14827      1584246\n",
              "37568 2020-08-08  South Africa     553188     404568   10210       967966\n",
              "37525 2020-08-08        Mexico     475902     377125   52006       905033\n",
              "37546 2020-08-08          Peru     463875     319171   20649       803695\n",
              "37449 2020-08-08      Colombia     376870     204591   12540       594001\n",
              "37447 2020-08-08         Chile     371023     344133   10011       725167\n",
              "37493 2020-08-08          Iran     324692     282122   18264       625078"
            ]
          },
          "metadata": {
            "tags": []
          },
          "execution_count": 39
        }
      ]
    },
    {
      "cell_type": "code",
      "metadata": {
        "id": "EuYkiESf5IPu",
        "outputId": "4a2c7617-9d21-404f-97f3-5c28e17d1ef6",
        "colab": {
          "base_uri": "https://localhost:8080/",
          "height": 377
        }
      },
      "source": [
        "#agregar com o resto do mundo\n",
        "top_10.loc['rest-of-world'] = total_df.sort_values(['Confirmed'], ascending=False)[10:].sum()\n",
        "top_10"
      ],
      "execution_count": null,
      "outputs": [
        {
          "output_type": "execute_result",
          "data": {
            "text/html": [
              "<div>\n",
              "<style scoped>\n",
              "    .dataframe tbody tr th:only-of-type {\n",
              "        vertical-align: middle;\n",
              "    }\n",
              "\n",
              "    .dataframe tbody tr th {\n",
              "        vertical-align: top;\n",
              "    }\n",
              "\n",
              "    .dataframe thead th {\n",
              "        text-align: right;\n",
              "    }\n",
              "</style>\n",
              "<table border=\"1\" class=\"dataframe\">\n",
              "  <thead>\n",
              "    <tr style=\"text-align: right;\">\n",
              "      <th></th>\n",
              "      <th>Date</th>\n",
              "      <th>Country</th>\n",
              "      <th>Confirmed</th>\n",
              "      <th>Recovered</th>\n",
              "      <th>Deaths</th>\n",
              "      <th>Total Cases</th>\n",
              "    </tr>\n",
              "  </thead>\n",
              "  <tbody>\n",
              "    <tr>\n",
              "      <th>37586</th>\n",
              "      <td>2020-08-08</td>\n",
              "      <td>US</td>\n",
              "      <td>4997929</td>\n",
              "      <td>1643118</td>\n",
              "      <td>162423</td>\n",
              "      <td>6803470</td>\n",
              "    </tr>\n",
              "    <tr>\n",
              "      <th>37435</th>\n",
              "      <td>2020-08-08</td>\n",
              "      <td>Brazil</td>\n",
              "      <td>3012412</td>\n",
              "      <td>2321537</td>\n",
              "      <td>100477</td>\n",
              "      <td>5434426</td>\n",
              "    </tr>\n",
              "    <tr>\n",
              "      <th>37491</th>\n",
              "      <td>2020-08-08</td>\n",
              "      <td>India</td>\n",
              "      <td>2153010</td>\n",
              "      <td>1480884</td>\n",
              "      <td>43379</td>\n",
              "      <td>3677273</td>\n",
              "    </tr>\n",
              "    <tr>\n",
              "      <th>37552</th>\n",
              "      <td>2020-08-08</td>\n",
              "      <td>Russia</td>\n",
              "      <td>880563</td>\n",
              "      <td>688856</td>\n",
              "      <td>14827</td>\n",
              "      <td>1584246</td>\n",
              "    </tr>\n",
              "    <tr>\n",
              "      <th>37568</th>\n",
              "      <td>2020-08-08</td>\n",
              "      <td>South Africa</td>\n",
              "      <td>553188</td>\n",
              "      <td>404568</td>\n",
              "      <td>10210</td>\n",
              "      <td>967966</td>\n",
              "    </tr>\n",
              "    <tr>\n",
              "      <th>37525</th>\n",
              "      <td>2020-08-08</td>\n",
              "      <td>Mexico</td>\n",
              "      <td>475902</td>\n",
              "      <td>377125</td>\n",
              "      <td>52006</td>\n",
              "      <td>905033</td>\n",
              "    </tr>\n",
              "    <tr>\n",
              "      <th>37546</th>\n",
              "      <td>2020-08-08</td>\n",
              "      <td>Peru</td>\n",
              "      <td>463875</td>\n",
              "      <td>319171</td>\n",
              "      <td>20649</td>\n",
              "      <td>803695</td>\n",
              "    </tr>\n",
              "    <tr>\n",
              "      <th>37449</th>\n",
              "      <td>2020-08-08</td>\n",
              "      <td>Colombia</td>\n",
              "      <td>376870</td>\n",
              "      <td>204591</td>\n",
              "      <td>12540</td>\n",
              "      <td>594001</td>\n",
              "    </tr>\n",
              "    <tr>\n",
              "      <th>37447</th>\n",
              "      <td>2020-08-08</td>\n",
              "      <td>Chile</td>\n",
              "      <td>371023</td>\n",
              "      <td>344133</td>\n",
              "      <td>10011</td>\n",
              "      <td>725167</td>\n",
              "    </tr>\n",
              "    <tr>\n",
              "      <th>37493</th>\n",
              "      <td>2020-08-08</td>\n",
              "      <td>Iran</td>\n",
              "      <td>324692</td>\n",
              "      <td>282122</td>\n",
              "      <td>18264</td>\n",
              "      <td>625078</td>\n",
              "    </tr>\n",
              "    <tr>\n",
              "      <th>rest-of-world</th>\n",
              "      <td>NaT</td>\n",
              "      <td>SpainUnited KingdomSaudi ArabiaPakistanBanglad...</td>\n",
              "      <td>6028042</td>\n",
              "      <td>3873004</td>\n",
              "      <td>281995</td>\n",
              "      <td>10183041</td>\n",
              "    </tr>\n",
              "  </tbody>\n",
              "</table>\n",
              "</div>"
            ],
            "text/plain": [
              "                    Date  ... Total Cases\n",
              "37586         2020-08-08  ...     6803470\n",
              "37435         2020-08-08  ...     5434426\n",
              "37491         2020-08-08  ...     3677273\n",
              "37552         2020-08-08  ...     1584246\n",
              "37568         2020-08-08  ...      967966\n",
              "37525         2020-08-08  ...      905033\n",
              "37546         2020-08-08  ...      803695\n",
              "37449         2020-08-08  ...      594001\n",
              "37447         2020-08-08  ...      725167\n",
              "37493         2020-08-08  ...      625078\n",
              "rest-of-world        NaT  ...    10183041\n",
              "\n",
              "[11 rows x 6 columns]"
            ]
          },
          "metadata": {
            "tags": []
          },
          "execution_count": 41
        }
      ]
    },
    {
      "cell_type": "code",
      "metadata": {
        "id": "O--x-dWM5Ilx",
        "outputId": "a71eeb25-0471-46b4-ec0e-43e3f8a06ee5",
        "colab": {
          "base_uri": "https://localhost:8080/",
          "height": 377
        }
      },
      "source": [
        "top_10.loc['rest-of-world', 'Country'] = 'Rest of World'\n",
        "top_10"
      ],
      "execution_count": null,
      "outputs": [
        {
          "output_type": "execute_result",
          "data": {
            "text/html": [
              "<div>\n",
              "<style scoped>\n",
              "    .dataframe tbody tr th:only-of-type {\n",
              "        vertical-align: middle;\n",
              "    }\n",
              "\n",
              "    .dataframe tbody tr th {\n",
              "        vertical-align: top;\n",
              "    }\n",
              "\n",
              "    .dataframe thead th {\n",
              "        text-align: right;\n",
              "    }\n",
              "</style>\n",
              "<table border=\"1\" class=\"dataframe\">\n",
              "  <thead>\n",
              "    <tr style=\"text-align: right;\">\n",
              "      <th></th>\n",
              "      <th>Date</th>\n",
              "      <th>Country</th>\n",
              "      <th>Confirmed</th>\n",
              "      <th>Recovered</th>\n",
              "      <th>Deaths</th>\n",
              "      <th>Total Cases</th>\n",
              "    </tr>\n",
              "  </thead>\n",
              "  <tbody>\n",
              "    <tr>\n",
              "      <th>37586</th>\n",
              "      <td>2020-08-08</td>\n",
              "      <td>US</td>\n",
              "      <td>4997929</td>\n",
              "      <td>1643118</td>\n",
              "      <td>162423</td>\n",
              "      <td>6803470</td>\n",
              "    </tr>\n",
              "    <tr>\n",
              "      <th>37435</th>\n",
              "      <td>2020-08-08</td>\n",
              "      <td>Brazil</td>\n",
              "      <td>3012412</td>\n",
              "      <td>2321537</td>\n",
              "      <td>100477</td>\n",
              "      <td>5434426</td>\n",
              "    </tr>\n",
              "    <tr>\n",
              "      <th>37491</th>\n",
              "      <td>2020-08-08</td>\n",
              "      <td>India</td>\n",
              "      <td>2153010</td>\n",
              "      <td>1480884</td>\n",
              "      <td>43379</td>\n",
              "      <td>3677273</td>\n",
              "    </tr>\n",
              "    <tr>\n",
              "      <th>37552</th>\n",
              "      <td>2020-08-08</td>\n",
              "      <td>Russia</td>\n",
              "      <td>880563</td>\n",
              "      <td>688856</td>\n",
              "      <td>14827</td>\n",
              "      <td>1584246</td>\n",
              "    </tr>\n",
              "    <tr>\n",
              "      <th>37568</th>\n",
              "      <td>2020-08-08</td>\n",
              "      <td>South Africa</td>\n",
              "      <td>553188</td>\n",
              "      <td>404568</td>\n",
              "      <td>10210</td>\n",
              "      <td>967966</td>\n",
              "    </tr>\n",
              "    <tr>\n",
              "      <th>37525</th>\n",
              "      <td>2020-08-08</td>\n",
              "      <td>Mexico</td>\n",
              "      <td>475902</td>\n",
              "      <td>377125</td>\n",
              "      <td>52006</td>\n",
              "      <td>905033</td>\n",
              "    </tr>\n",
              "    <tr>\n",
              "      <th>37546</th>\n",
              "      <td>2020-08-08</td>\n",
              "      <td>Peru</td>\n",
              "      <td>463875</td>\n",
              "      <td>319171</td>\n",
              "      <td>20649</td>\n",
              "      <td>803695</td>\n",
              "    </tr>\n",
              "    <tr>\n",
              "      <th>37449</th>\n",
              "      <td>2020-08-08</td>\n",
              "      <td>Colombia</td>\n",
              "      <td>376870</td>\n",
              "      <td>204591</td>\n",
              "      <td>12540</td>\n",
              "      <td>594001</td>\n",
              "    </tr>\n",
              "    <tr>\n",
              "      <th>37447</th>\n",
              "      <td>2020-08-08</td>\n",
              "      <td>Chile</td>\n",
              "      <td>371023</td>\n",
              "      <td>344133</td>\n",
              "      <td>10011</td>\n",
              "      <td>725167</td>\n",
              "    </tr>\n",
              "    <tr>\n",
              "      <th>37493</th>\n",
              "      <td>2020-08-08</td>\n",
              "      <td>Iran</td>\n",
              "      <td>324692</td>\n",
              "      <td>282122</td>\n",
              "      <td>18264</td>\n",
              "      <td>625078</td>\n",
              "    </tr>\n",
              "    <tr>\n",
              "      <th>rest-of-world</th>\n",
              "      <td>NaT</td>\n",
              "      <td>Rest of World</td>\n",
              "      <td>6028042</td>\n",
              "      <td>3873004</td>\n",
              "      <td>281995</td>\n",
              "      <td>10183041</td>\n",
              "    </tr>\n",
              "  </tbody>\n",
              "</table>\n",
              "</div>"
            ],
            "text/plain": [
              "                    Date        Country  ...  Deaths  Total Cases\n",
              "37586         2020-08-08             US  ...  162423      6803470\n",
              "37435         2020-08-08         Brazil  ...  100477      5434426\n",
              "37491         2020-08-08          India  ...   43379      3677273\n",
              "37552         2020-08-08         Russia  ...   14827      1584246\n",
              "37568         2020-08-08   South Africa  ...   10210       967966\n",
              "37525         2020-08-08         Mexico  ...   52006       905033\n",
              "37546         2020-08-08           Peru  ...   20649       803695\n",
              "37449         2020-08-08       Colombia  ...   12540       594001\n",
              "37447         2020-08-08          Chile  ...   10011       725167\n",
              "37493         2020-08-08           Iran  ...   18264       625078\n",
              "rest-of-world        NaT  Rest of World  ...  281995     10183041\n",
              "\n",
              "[11 rows x 6 columns]"
            ]
          },
          "metadata": {
            "tags": []
          },
          "execution_count": 45
        }
      ]
    },
    {
      "cell_type": "code",
      "metadata": {
        "id": "hsQpLeVz5INO",
        "outputId": "a35b3ee0-ffc6-445d-f280-66ddc62c0102",
        "colab": {
          "base_uri": "https://localhost:8080/",
          "height": 592
        }
      },
      "source": [
        "fig =plt.figure(figsize=(10, 10))\n",
        "ax = fig.add_subplot(111)\n",
        "\n",
        "ax.pie(top_10['Confirmed'], labels=top_10['Country'], autopct='%1.1f%%')\n",
        "ax.title.set_text('Hardest Hit Countries Wordwide')"
      ],
      "execution_count": null,
      "outputs": [
        {
          "output_type": "display_data",
          "data": {
            "image/png": "[encoded data removed]",
            "text/plain": [
              "<Figure size 720x720 with 1 Axes>"
            ]
          },
          "metadata": {
            "tags": []
          }
        }
      ]
    },
    {
      "cell_type": "code",
      "metadata": {
        "id": "T6I4jmbI5ILS"
      },
      "source": [
        ""
      ],
      "execution_count": null,
      "outputs": []
    }
  ]
}